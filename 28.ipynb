{
 "cells": [
  {
   "cell_type": "code",
   "execution_count": 1,
   "id": "75478110-eb24-44aa-b399-e73d1905da55",
   "metadata": {},
   "outputs": [],
   "source": [
    "import cv2\n",
    "import numpy as np"
   ]
  },
  {
   "cell_type": "code",
   "execution_count": 3,
   "id": "86bfb6e3-97bf-4368-a028-aecb2bbefe6f",
   "metadata": {},
   "outputs": [],
   "source": [
    "# Tải mô hình đã được huấn luyện từ trước\n",
    "net = cv2.dnn.readNetFromCaffe(\n",
    "    './models/deploy.prototxt.txt',\n",
    "    './models/res10_300x300_ssd_iter_140000_fp16.caffemodel'\n",
    ")\n",
    "\n",
    "# Mở webcam\n",
    "cap = cv2.VideoCapture(0)\n",
    "\n",
    "while True: \n",
    "    # Đọc khung hình từ camera\n",
    "    ret, frame = cap.read()\n",
    "    \n",
    "    if not ret:\n",
    "        break\n",
    "    \n",
    "    blob = cv2.dnn.blobFromImage(frame, 1.0, (300, 300), (104, 177, 123), swapRB=False)\n",
    "\n",
    "    # Đặt dữ liệu đầu vào cho mạng\n",
    "    net.setInput(blob)\n",
    "\n",
    "    # Chạy mạng để phát hiện khuôn mặt\n",
    "    faces = net.forward()\n",
    "\n",
    "    # Lấy kích thước của ảnh đầu vào\n",
    "    h = frame.shape[0]\n",
    "    w = frame.shape[1]\n",
    "\n",
    "    # Duyệt từng khuôn mặt đã được phát hiện\n",
    "    for i in range(0, faces.shape[2]):\n",
    "        confidence = faces[0,0,i,2]\n",
    "        # Kiểm tra nếu mặt có độ tin cậy là 0.5\n",
    "        if confidence>0.5:\n",
    "            # Trích xuất tọa độ\n",
    "            # print(faces[0, 0, i, 3:7])\n",
    "            startx = int(faces[0, 0, i, 3]*w)\n",
    "            starty = int(faces[0, 0, i, 4]*h)\n",
    "            endx = int(faces[0, 0, i, 5]*w)\n",
    "            endy = int(faces[0, 0, i, 6]*h)\n",
    "            # print(startx, starty, endx, endy)\n",
    "\n",
    "            # Vẽ hình chữ nhật xung quanh khuôn mặt đã phát hiện\n",
    "            cv2.rectangle(frame, (startx, starty), (endx, endy), (0, 255, 0),)\n",
    "\n",
    "            # Hiển thị độ tin cậy\n",
    "            text = 'Face: {:.2f}%'.format(confidence*100);\n",
    "            cv2.putText(frame, text, (startx, starty-10), cv2.FONT_HERSHEY_PLAIN, 1, (255,255,255),)\n",
    "\n",
    "    # Hiển thị ảnh gốc\n",
    "    cv2.imshow('Kết quả', frame)\n",
    "    if(cv2.waitKey(1)==ord('q')):\n",
    "        break\n",
    "\n",
    "cap.release()\n",
    "cv2.destroyAllWindows()"
   ]
  },
  {
   "cell_type": "code",
   "execution_count": null,
   "id": "27df7604-dcc4-4147-abaf-cfa1f68a63b3",
   "metadata": {},
   "outputs": [],
   "source": []
  }
 ],
 "metadata": {
  "kernelspec": {
   "display_name": "Python 3 (ipykernel)",
   "language": "python",
   "name": "python3"
  },
  "language_info": {
   "codemirror_mode": {
    "name": "ipython",
    "version": 3
   },
   "file_extension": ".py",
   "mimetype": "text/x-python",
   "name": "python",
   "nbconvert_exporter": "python",
   "pygments_lexer": "ipython3",
   "version": "3.12.4"
  }
 },
 "nbformat": 4,
 "nbformat_minor": 5
}
