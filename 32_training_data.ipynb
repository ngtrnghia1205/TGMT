{
  "nbformat": 4,
  "nbformat_minor": 0,
  "metadata": {
    "colab": {
      "private_outputs": true,
      "provenance": [],
      "gpuType": "T4",
      "include_colab_link": true
    },
    "kernelspec": {
      "name": "python3",
      "display_name": "Python 3"
    },
    "language_info": {
      "name": "python"
    },
    "accelerator": "GPU"
  },
  "cells": [
    {
      "cell_type": "markdown",
      "metadata": {
        "id": "view-in-github",
        "colab_type": "text"
      },
      "source": [
        "<a href=\"https://colab.research.google.com/github/ngtrnghia1205/TGMT/blob/main/32_training_data.ipynb\" target=\"_parent\"><img src=\"https://colab.research.google.com/assets/colab-badge.svg\" alt=\"Open In Colab\"/></a>"
      ]
    },
    {
      "cell_type": "code",
      "execution_count": null,
      "metadata": {
        "id": "w0DkkwlpFyoL"
      },
      "outputs": [],
      "source": [
        "# Import các thư viện cần thiết\n",
        "import numpy as np\n",
        "import cv2\n",
        "import pandas as pd\n",
        "import os\n",
        "import pickle\n",
        "from google.colab import drive\n",
        "from google.colab.patches import cv2_imshow\n",
        "from sklearn.model_selection import train_test_split"
      ]
    },
    {
      "cell_type": "code",
      "source": [
        "# Connect Google Drive\n",
        "drive.mount('/content/drive')\n",
        "path = '/content/drive/MyDrive/test_opencv/'\n",
        "# Hiển thị tất cả thư mục hoặc file\n",
        "os.listdir(path)"
      ],
      "metadata": {
        "id": "iy8a9WNeF3lH"
      },
      "execution_count": null,
      "outputs": []
    },
    {
      "cell_type": "code",
      "source": [
        "# 1. DATA"
      ],
      "metadata": {
        "id": "aFTito9IF7Yu"
      },
      "execution_count": null,
      "outputs": []
    },
    {
      "cell_type": "code",
      "source": [
        "# Load data from pickle file\n",
        "data = pickle.load(open(\"/content/drive/MyDrive/test_opencv/data_face_features.pickle\", mode=\"rb\"))"
      ],
      "metadata": {
        "id": "9jO38uscGCZk"
      },
      "execution_count": null,
      "outputs": []
    },
    {
      "cell_type": "code",
      "source": [
        "x = np.array(data['data'])\n",
        "y = np.array(data['label'])\n",
        "\n",
        "print(x)\n",
        "print(y)"
      ],
      "metadata": {
        "id": "f6DCEJh1GQXl"
      },
      "execution_count": null,
      "outputs": []
    },
    {
      "cell_type": "code",
      "source": [
        "x.shape"
      ],
      "metadata": {
        "id": "TEbcP9GEGUsv"
      },
      "execution_count": null,
      "outputs": []
    },
    {
      "cell_type": "code",
      "source": [
        "y.shape"
      ],
      "metadata": {
        "id": "KZELXE92Gaqq"
      },
      "execution_count": null,
      "outputs": []
    },
    {
      "cell_type": "code",
      "source": [
        "x = x.reshape(-1, 128)"
      ],
      "metadata": {
        "id": "LIkKmxEeGd81"
      },
      "execution_count": null,
      "outputs": []
    },
    {
      "cell_type": "code",
      "source": [
        "x.shape"
      ],
      "metadata": {
        "id": "jyeGTZcRGiKH"
      },
      "execution_count": null,
      "outputs": []
    },
    {
      "cell_type": "code",
      "source": [
        "# chia nhỏ dữ liệu\n",
        "x_train, x_test, y_train, y_test = train_test_split(x, y, train_size=0.8, random_state=1)"
      ],
      "metadata": {
        "id": "N0xYVSmvGmjW"
      },
      "execution_count": null,
      "outputs": []
    },
    {
      "cell_type": "code",
      "source": [
        "x_train.shape, x_test.shape, y_train.shape, y_test.shape"
      ],
      "metadata": {
        "id": "prjACTJRGxAY"
      },
      "execution_count": null,
      "outputs": []
    },
    {
      "cell_type": "code",
      "source": [
        "# 2. Train machine learning"
      ],
      "metadata": {
        "id": "6bjj0xomG2a9"
      },
      "execution_count": null,
      "outputs": []
    },
    {
      "cell_type": "code",
      "source": [
        "from sklearn.linear_model import LogisticRegression\n",
        "from sklearn.svm import SVC\n",
        "from sklearn.ensemble import RandomForestClassifier\n",
        "from sklearn.ensemble import VotingClassifier\n",
        "from sklearn.metrics import classification_report, accuracy_score, f1_score"
      ],
      "metadata": {
        "id": "ONnNUc8YG6Tb"
      },
      "execution_count": null,
      "outputs": []
    },
    {
      "cell_type": "code",
      "source": [
        "def get_report(model, x_train, y_train, x_test, y_test):\n",
        "  y_pred_train = model.predict(x_train)\n",
        "  y_pred_test = model.predict(x_test)\n",
        "\n",
        "  # accuracy score\n",
        "  acc_train = accuracy_score(y_train, y_pred_train)\n",
        "  acc_test = accuracy_score(y_test, y_pred_test)\n",
        "\n",
        "  # f1 score\n",
        "  f1_score_train = f1_score(y_train, y_pred_train, average=\"macro\")\n",
        "  f1_score_test = f1_score(y_test, y_pred_test, average=\"macro\")\n",
        "\n",
        "  # print\n",
        "  print('Accurency Train = %0.2f'%acc_train)\n",
        "  print('Accurency Test = %0.2f'%acc_test)\n",
        "  print('F1 Score Train = %0.2f'%f1_score_train)\n",
        "  print('F1 Score Test = %0.2f'%f1_score_test)"
      ],
      "metadata": {
        "id": "jDeKjSZBHJDq"
      },
      "execution_count": null,
      "outputs": []
    },
    {
      "cell_type": "code",
      "source": [
        "# Logistic regression\n",
        "model_logistic = LogisticRegression()\n",
        "model_logistic.fit(x_train, y_train) # training"
      ],
      "metadata": {
        "id": "8ijfbEBdHBlX"
      },
      "execution_count": null,
      "outputs": []
    },
    {
      "cell_type": "code",
      "source": [
        "get_report(model_logistic, x_train, y_train, x_test, y_test)"
      ],
      "metadata": {
        "id": "DEIhqXJwHTAV"
      },
      "execution_count": null,
      "outputs": []
    },
    {
      "cell_type": "code",
      "source": [
        "# Support Vector Machines\n",
        "model_svc = SVC(probability=True)\n",
        "model_svc.fit(x_train, y_train)"
      ],
      "metadata": {
        "id": "Nd4T2ANCH052"
      },
      "execution_count": null,
      "outputs": []
    },
    {
      "cell_type": "code",
      "source": [
        "get_report(model_svc, x_train, y_train, x_test, y_test)"
      ],
      "metadata": {
        "id": "t5G01iVxH8HX"
      },
      "execution_count": null,
      "outputs": []
    },
    {
      "cell_type": "code",
      "source": [
        "# Random forest\n",
        "model_rf = RandomForestClassifier(n_estimators=20,)\n",
        "model_rf.fit(x_train, y_train)"
      ],
      "metadata": {
        "id": "vR8fWmMpICQE"
      },
      "execution_count": null,
      "outputs": []
    },
    {
      "cell_type": "code",
      "source": [
        "get_report(model_rf, x_train, y_train, x_test, y_test)"
      ],
      "metadata": {
        "id": "7Jg-61PGIG0z"
      },
      "execution_count": null,
      "outputs": []
    },
    {
      "cell_type": "code",
      "source": [
        "# Voting Classifier\n",
        "model_voting = VotingClassifier(estimators=[\n",
        "    ('logistic', LogisticRegression()),\n",
        "    ('svm', SVC(probability=True)),\n",
        "    ('rf', RandomForestClassifier(n_estimators=20,)),\n",
        "], voting='soft', weights=[2,3,1])"
      ],
      "metadata": {
        "id": "8cC9q9d_ISN8"
      },
      "execution_count": null,
      "outputs": []
    },
    {
      "cell_type": "code",
      "source": [
        "model_voting.fit(x_train, y_train)"
      ],
      "metadata": {
        "id": "mGfaLF1lIZu-"
      },
      "execution_count": null,
      "outputs": []
    },
    {
      "cell_type": "code",
      "source": [
        "get_report(model_voting, x_train, y_train, x_test, y_test)"
      ],
      "metadata": {
        "id": "KEeivhHGIdm7"
      },
      "execution_count": null,
      "outputs": []
    },
    {
      "cell_type": "code",
      "source": [
        "# 3. Parameter Tuning\n",
        "from sklearn.model_selection import GridSearchCV\n",
        "\n",
        "model_grid = GridSearchCV(model_voting, param_grid={\n",
        "    'svm__C': [3,5,7,10],\n",
        "    'svm__gamma': [0.1, 0.3, 0.5],\n",
        "    'rf__n_estimators': [5, 10,20],\n",
        "    'rf__max_depth': [3, 5, 7],\n",
        "    'voting': ['soft', 'hard']\n",
        "}, scoring='accuracy', cv=3, n_jobs=1, verbose=2)"
      ],
      "metadata": {
        "id": "_PUc3FiRImTA"
      },
      "execution_count": null,
      "outputs": []
    },
    {
      "cell_type": "code",
      "source": [
        "model_grid.fit(x_train, y_train)"
      ],
      "metadata": {
        "id": "0kbvc9iEIr4c"
      },
      "execution_count": null,
      "outputs": []
    },
    {
      "cell_type": "code",
      "source": [
        "model_best_estimator = model_grid.best_estimator_"
      ],
      "metadata": {
        "id": "1YHW9H_qI3eJ"
      },
      "execution_count": null,
      "outputs": []
    },
    {
      "cell_type": "code",
      "source": [
        "model_grid.best_score_"
      ],
      "metadata": {
        "id": "9ey1xjgyJLR3"
      },
      "execution_count": null,
      "outputs": []
    },
    {
      "cell_type": "code",
      "source": [
        "# 4. Save Model\n",
        "pickle.dump(model_best_estimator, open(\"/content/drive/MyDrive/test_opencv/ml_face_person_identity.pkl\", mode='wb'))"
      ],
      "metadata": {
        "id": "dcQkW6HQJO8d"
      },
      "execution_count": null,
      "outputs": []
    }
  ]
}