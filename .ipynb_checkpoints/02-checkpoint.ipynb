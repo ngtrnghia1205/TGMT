{
 "cells": [
  {
   "cell_type": "code",
   "execution_count": 1,
   "id": "69613e6b-0c24-48cc-8f27-6208c2ee8321",
   "metadata": {},
   "outputs": [],
   "source": [
    "#Dấu thăng dùng để ghi chú\n",
    "#Shift + Enter : run đoạn code và thêm một dòng mới"
   ]
  },
  {
   "cell_type": "code",
   "execution_count": 2,
   "id": "5a290d18-5471-48e9-abba-279cbe0e7fbd",
   "metadata": {},
   "outputs": [],
   "source": [
    "#Ctrl+Enter : run đoạn code"
   ]
  },
  {
   "cell_type": "code",
   "execution_count": 3,
   "id": "d4ba21ec-7b40-41d1-9217-41dba292e9d6",
   "metadata": {},
   "outputs": [],
   "source": [
    "#!pip install pillow"
   ]
  },
  {
   "cell_type": "code",
   "execution_count": 4,
   "id": "5293c2e5-68b9-4e68-93ac-609faeae3a09",
   "metadata": {},
   "outputs": [],
   "source": [
    "#Thêm thư viện \n",
    "from PIL import Image\n",
    "from imgtools import *"
   ]
  },
  {
   "cell_type": "code",
   "execution_count": 5,
   "id": "9508b1e4-3731-4c6f-aa22-e783b8c61f00",
   "metadata": {},
   "outputs": [],
   "source": [
    "#Khai báo một biến chứa thư mục(/ hoặc \\\\)\n",
    "dir = 'C:/Users/ACER/src_cv/img/01'"
   ]
  },
  {
   "cell_type": "code",
   "execution_count": null,
   "id": "5629323d-425e-45b9-8bdb-6b463af05fea",
   "metadata": {},
   "outputs": [],
   "source": []
  }
 ],
 "metadata": {
  "kernelspec": {
   "display_name": "Python 3 (ipykernel)",
   "language": "python",
   "name": "python3"
  },
  "language_info": {
   "codemirror_mode": {
    "name": "ipython",
    "version": 3
   },
   "file_extension": ".py",
   "mimetype": "text/x-python",
   "name": "python",
   "nbconvert_exporter": "python",
   "pygments_lexer": "ipython3",
   "version": "3.12.4"
  }
 },
 "nbformat": 4,
 "nbformat_minor": 5
}
